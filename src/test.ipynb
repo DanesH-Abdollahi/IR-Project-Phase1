{
 "cells": [
  {
   "cell_type": "code",
   "execution_count": 82,
   "metadata": {},
   "outputs": [],
   "source": [
    "import json\n",
    "from hazm import Normalizer, WordTokenizer, Lemmatizer\n",
    "from hazm.utils import stopwords_list\n",
    "\n",
    "with open(\"../IR_data_news_12k.json\", \"r\") as file:\n",
    "    data = json.load(file)\n",
    "\n",
    "normalizer = Normalizer()\n",
    "tokenizer = WordTokenizer()\n",
    "lemmetizer = Lemmatizer()\n",
    "tokens_dict = dict()\n",
    "stopwords = stopwords_list()\n",
    "stopwords.extend(\n",
    "    [\n",
    "        \"،\",\n",
    "        \".\",\n",
    "        \":\",\n",
    "        \"؛\",\n",
    "        \"!\",\n",
    "        \"(\",\n",
    "        \")\",\n",
    "        \"[\",\n",
    "        \"]\",\n",
    "        \"{\",\n",
    "        \"}\",\n",
    "        \"«\",\n",
    "        \"»\",\n",
    "        \"؟\",\n",
    "        \"-\",\n",
    "        \"/\",\n",
    "    ]\n",
    ")\n",
    "\n",
    "for id in data:\n",
    "    tmp_tokens = []\n",
    "    tokens_dict[id] = normalizer.normalize(\n",
    "        data[id][\"content\"])  # normalize text\n",
    "    tmp_tokens = tokenizer.tokenize(tokens_dict[id])  # list of tokens\n",
    "\n",
    "    tmp_tokens = [\n",
    "        token for token in tmp_tokens if token not in stopwords\n",
    "    ]  # remove stopwords\n",
    "\n",
    "    for i in range(len(tmp_tokens)):\n",
    "        tmp_tokens[i] = lemmetizer.lemmatize(tmp_tokens[i])  # lemmatize tokens\n",
    "\n",
    "    # update tokens_dict with lemmatized tokens list\n",
    "    tokens_dict[id] = tmp_tokens\n"
   ]
  },
  {
   "cell_type": "code",
   "execution_count": 74,
   "metadata": {},
   "outputs": [],
   "source": [
    "inverted_index = dict()\n",
    "\n",
    "for id in tokens_dict:\n",
    "    for token in tokens_dict[id]:\n",
    "        if token not in inverted_index:\n",
    "            inverted_index[token] = dict()\n",
    "            # inverted_index[token][\"total_num\"] = len(tokens_dict[id])\n",
    "            inverted_index[token][\"total_num\"] = 1\n",
    "            inverted_index[token][\"PL\"] = dict()\n",
    "\n",
    "            if id not in inverted_index[token][\"PL\"]:\n",
    "                inverted_index[token][\"PL\"][id] = 1\n",
    "            else:\n",
    "                inverted_index[token][\"PL\"][id] += 1\n",
    "        else:\n",
    "\n",
    "            inverted_index[token][\"total_num\"] += 1\n",
    "            if id not in inverted_index[token][\"PL\"]:\n",
    "                inverted_index[token][\"PL\"][id] = 1\n",
    "            else:\n",
    "                inverted_index[token][\"PL\"][id] += 1\n",
    "\n",
    "            \n"
   ]
  },
  {
   "cell_type": "code",
   "execution_count": 63,
   "metadata": {},
   "outputs": [],
   "source": [
    "new_dict = dict(sorted(inverted_index.items(), key=lambda item: item[0]))"
   ]
  },
  {
   "cell_type": "code",
   "execution_count": 61,
   "metadata": {},
   "outputs": [
    {
     "name": "stdout",
     "output_type": "stream",
     "text": [
      "12611   12611\n"
     ]
    }
   ],
   "source": [
    "list(new_dict.keys())[-20:-1]\n",
    "# inverted_index.keys()\n",
    "id = \"ایران\"\n",
    "new_dict[id]\n",
    "tmp = 0\n",
    "for i in new_dict[id][\"PL\"].values():\n",
    "    tmp += i\n",
    "print(tmp, \" \", new_dict[id][\"total_num\"])"
   ]
  }
 ],
 "metadata": {
  "kernelspec": {
   "display_name": "IR",
   "language": "python",
   "name": "python3"
  },
  "language_info": {
   "codemirror_mode": {
    "name": "ipython",
    "version": 3
   },
   "file_extension": ".py",
   "mimetype": "text/x-python",
   "name": "python",
   "nbconvert_exporter": "python",
   "pygments_lexer": "ipython3",
   "version": "3.8.16"
  },
  "orig_nbformat": 4
 },
 "nbformat": 4,
 "nbformat_minor": 2
}
